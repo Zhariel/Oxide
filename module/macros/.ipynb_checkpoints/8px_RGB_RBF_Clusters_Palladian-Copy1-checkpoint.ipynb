{
 "cells": [
  {
   "cell_type": "markdown",
   "id": "f7dd0f1f",
   "metadata": {},
   "source": [
    "# - 8px - Grayscale -"
   ]
  },
  {
   "cell_type": "code",
   "execution_count": 1,
   "id": "cc7d390f",
   "metadata": {},
   "outputs": [],
   "source": [
    "import matplotlib.pyplot as plt\n",
    "from img_driver import Img_Driver\n",
    "from datetime import datetime\n",
    "import numpy as np\n",
    "import random\n",
    "import time\n",
    "import sys\n",
    "import os"
   ]
  },
  {
   "cell_type": "markdown",
   "id": "a41b0e3e",
   "metadata": {},
   "source": [
    "## Radial Clusters"
   ]
  },
  {
   "cell_type": "code",
   "execution_count": 2,
   "id": "72c10c8c",
   "metadata": {
    "scrolled": true
   },
   "outputs": [
    {
     "name": "stdout",
     "output_type": "stream",
     "text": [
      "X : 4528 192\n",
      "[[0.9019607843137255, 0.9333333333333333, 0.996078431372549, 0.9294117647058824, 0.9568627450980393, 1.0, 0.9647058823529412, 0.9803921568627451, 1.0, 0.9803921568627451, 0.996078431372549, 1.0, 0.9803921568627451, 0.996078431372549, 1.0, 0.9607843137254902, 0.9803921568627451, 1.0, 0.9411764705882353, 0.9647058823529412, 1.0, 0.9176470588235294, 0.9490196078431372, 1.0, 0.9137254901960784, 0.9450980392156862, 1.0, 0.9529411764705882, 0.9764705882352941, 1.0, 0.9333333333333333, 0.9450980392156862, 0.9647058823529412, 0.7372549019607844, 0.7607843137254902, 0.788235294117647, 0.7254901960784313, 0.7450980392156863, 0.7725490196078432, 0.9137254901960784, 0.9294117647058824, 0.9490196078431372, 0.9529411764705882, 0.9764705882352941, 1.0, 0.9215686274509803, 0.9529411764705882, 1.0, 0.803921568627451, 0.8274509803921568, 0.8588235294117647, 0.9215686274509803, 0.9372549019607843, 0.9490196078431372, 0.788235294117647, 0.803921568627451, 0.8156862745098039, 0.6, 0.6274509803921569, 0.6549019607843137, 0.6039215686274509, 0.6352941176470588, 0.6588235294117647, 0.7764705882352941, 0.788235294117647, 0.803921568627451, 0.9058823529411765, 0.9254901960784314, 0.9490196078431372, 0.8, 0.8196078431372549, 0.8509803921568627, 0.5647058823529412, 0.5568627450980392, 0.5490196078431373, 0.6784313725490196, 0.6784313725490196, 0.6784313725490196, 0.7294117647058823, 0.7333333333333333, 0.7372549019607844, 0.611764705882353, 0.611764705882353, 0.6039215686274509, 0.6235294117647059, 0.6235294117647059, 0.611764705882353, 0.7254901960784313, 0.7294117647058823, 0.7333333333333333, 0.6784313725490196, 0.6784313725490196, 0.6784313725490196, 0.5882352941176471, 0.592156862745098, 0.5843137254901961, 0.4117647058823529, 0.43137254901960786, 0.4549019607843137, 0.6823529411764706, 0.6901960784313725, 0.7058823529411765, 0.8156862745098039, 0.8156862745098039, 0.8274509803921568, 0.5568627450980392, 0.5764705882352941, 0.6, 0.5686274509803921, 0.5803921568627451, 0.6039215686274509, 0.8196078431372549, 0.8235294117647058, 0.8313725490196079, 0.6823529411764706, 0.6980392156862745, 0.7176470588235294, 0.45098039215686275, 0.4745098039215686, 0.5019607843137255, 0.32941176470588235, 0.3411764705882353, 0.34901960784313724, 0.5098039215686274, 0.5176470588235295, 0.5254901960784314, 0.5686274509803921, 0.5686274509803921, 0.5725490196078431, 0.3843137254901961, 0.4, 0.40784313725490196, 0.403921568627451, 0.41568627450980394, 0.4235294117647059, 0.5843137254901961, 0.5882352941176471, 0.5882352941176471, 0.5098039215686274, 0.5176470588235295, 0.5333333333333333, 0.3686274509803922, 0.3764705882352941, 0.3843137254901961, 0.3764705882352941, 0.3686274509803922, 0.3568627450980392, 0.3686274509803922, 0.36470588235294116, 0.3568627450980392, 0.45098039215686275, 0.4588235294117647, 0.4549019607843137, 0.4470588235294118, 0.4549019607843137, 0.4627450980392157, 0.48627450980392156, 0.49411764705882355, 0.49019607843137253, 0.4745098039215686, 0.47843137254901963, 0.4745098039215686, 0.4196078431372549, 0.4196078431372549, 0.4117647058823529, 0.4235294117647059, 0.4196078431372549, 0.403921568627451, 0.4235294117647059, 0.36470588235294116, 0.26666666666666666, 0.43137254901960786, 0.3764705882352941, 0.28627450980392155, 0.38823529411764707, 0.3333333333333333, 0.24705882352941178, 0.43137254901960786, 0.3803921568627451, 0.29411764705882354, 0.43137254901960786, 0.3843137254901961, 0.29411764705882354, 0.42745098039215684, 0.3764705882352941, 0.28627450980392155, 0.4745098039215686, 0.4196078431372549, 0.3254901960784314, 0.4392156862745098, 0.38823529411764707, 0.2980392156862745]]\n",
      "\n",
      "Y : 4528\n",
      "[1.0]\n",
      "\n"
     ]
    }
   ],
   "source": [
    "driver = Img_Driver()\n",
    "\n",
    "X = driver.pixels_rgb(8, rgb=True, divider=255)\n",
    "Y = driver.define_y_linear(\"palladian\", 8, rgb=True)\n",
    "\n",
    "X_test = driver.pixels_rgb(8, rgb=True, divider=255, test=True)\n",
    "Y_test = driver.define_y_linear(\"palladian\", 8, rgb=True, test=True)\n",
    "\n",
    "# X_test = driver.pixels_rgb(8, rgb=False, divider=255, test=True)\n",
    "# Y_test = [1.0 if x < 80 else 0.0 for x in range(240)]\n",
    "\n",
    "random.seed(0)\n",
    "random.shuffle(X)\n",
    "random.seed(0)\n",
    "random.shuffle(Y)\n",
    "\n",
    "print(f\"X : {len(X)} {len(X[0])}\")\n",
    "print(X[0:1])\n",
    "print()\n",
    "print(f\"Y : {len(Y)}\")\n",
    "print(Y[0:1])\n",
    "print()\n",
    "# print(f\"X_test : {len(X_test)} {len(X_test[0])}\")\n",
    "# print(X_test[0:1])\n",
    "# print()\n",
    "# print(f\"Y_test : {len(Y_test)}\")\n",
    "# print(Y_test)\n",
    "# print()"
   ]
  },
  {
   "cell_type": "code",
   "execution_count": 16,
   "id": "947a9840",
   "metadata": {
    "scrolled": true
   },
   "outputs": [
    {
     "name": "stdout",
     "output_type": "stream",
     "text": [
      "Accuracy : 3014 / 4528\n",
      "66.6%\n",
      "\n",
      "Test accuracy : 160 / 240\n",
      "66.7%\n",
      "\n"
     ]
    },
    {
     "data": {
      "image/png": "[encoded data removed]",
      "text/plain": [
       "<Figure size 432x288 with 1 Axes>"
      ]
     },
     "metadata": {
      "needs_background": "light"
     },
     "output_type": "display_data"
    },
    {
     "name": "stdout",
     "output_type": "stream",
     "text": [
      "238.12365746498108\n"
     ]
    }
   ],
   "source": [
    "from ruster_rbf import Ruster_RBF\n",
    "r = Ruster_RBF(path=\"C:\\\\Users\\\\Revive\\\\PycharmProjects\\\\Rust_Native_ML\\\\rust\\\\PerceptronLib\\\\target\\\\release\\\\PerceptronLib.dll\")\n",
    "t1 = time.time()\n",
    "\n",
    "XF = [item for sublist in X for item in sublist]\n",
    "XF_test = [item for sublist in X_test for item in sublist]\n",
    "Y\n",
    "\n",
    "gamma = 0.1\n",
    "ndim = 192\n",
    "nb_clusters = 50\n",
    "model_size = len(X)\n",
    "model = r.create_linear_model(model_size-1)\n",
    "\n",
    "native_clusters = r.init_clusters(XF, nb_clusters, ndim)\n",
    "r.k_means(XF, native_clusters, nb_clusters, ndim)\n",
    "clusters = r.npify(native_clusters, nb_clusters*ndim)\n",
    "\n",
    "r.destroy(native_clusters, nb_clusters*ndim)\n",
    "\n",
    "# model_np = r.npify(model, model_size)\n",
    "# print(model_np)\n",
    "# print()\n",
    "\n",
    "losses = []\n",
    "test_losses = []\n",
    "\n",
    "for i in range(10000):\n",
    "    rand_idx = random.randint(0, len(X)-1)\n",
    "    rand_idx_test = random.randint(0, len(X_test)-1)\n",
    "    predict = r.predict_rbf_naive(model, clusters, X[rand_idx], ndim, gamma, True)\n",
    "    predict_test = r.predict_rbf_naive(model, clusters, X_test[rand_idx_test], ndim, gamma, True)\n",
    "    \n",
    "    losses.append(Y[rand_idx] - predict)\n",
    "    test_losses.append(Y_test[rand_idx_test] - predict_test)\n",
    "    \n",
    "    r.train_rosenblatt_rbf(model, clusters, Y, ndim, 50, 0.003, gamma)\n",
    "    \n",
    "#     t2 = time.time()\n",
    "#     print(t2 - t1)\n",
    "#     print(f\"Pred : {predict} Y : {Y[rand_idx]}\")\n",
    "#     print(f\"Test : {predict_test} Y_test : {Y_test[rand_idx_test]} out: {(Y[rand_idx] - predict)}\")\n",
    "#     print()\n",
    "\n",
    "accurates = 0\n",
    "accurates_test = 0\n",
    "for i in range(len(X)):\n",
    "    predict = r.predict_rbf_naive(model, clusters, X[i], ndim, gamma, True)\n",
    "    if Y[i] - predict == 0:\n",
    "        accurates += 1\n",
    "        \n",
    "for i in range(len(X_test)):\n",
    "    predict_test = r.predict_rbf_naive(model, clusters, X_test[i], ndim, gamma, True)\n",
    "    if Y_test[i] - predict_test == 0:\n",
    "        accurates_test += 1\n",
    "        \n",
    "print(f\"Accuracy : {accurates} / {len(Y)}\")\n",
    "print(f\"{round(accurates/len(Y)*100, 1)}%\")\n",
    "print() \n",
    "print(f\"Test accuracy : {accurates_test} / {len(Y_test)}\")\n",
    "print(f\"{round(accurates_test/len(Y_test)*100, 1)}%\")\n",
    "print()\n",
    "\n",
    "plt.plot(losses)\n",
    "plt.plot(test_losses)\n",
    "plt.show()\n",
    "\n",
    "t2 = time.time()\n",
    "print(t2 - t1)\n",
    "\n",
    "r.store_model(model, model_size, 13381101)\n",
    "\n",
    "r.destroy(model, model_size)"
   ]
  },
  {
   "cell_type": "code",
   "execution_count": 15,
   "id": "63c584cf",
   "metadata": {},
   "outputs": [
    {
     "name": "stdout",
     "output_type": "stream",
     "text": [
      "Accuracy : 2265 / 4528\n",
      "50.0%\n",
      "\n",
      "Test accuracy : 114 / 240\n",
      "47.5%\n",
      "\n"
     ]
    },
    {
     "data": {
      "image/png": "[encoded data removed]",
      "text/plain": [
       "<Figure size 432x288 with 1 Axes>"
      ]
     },
     "metadata": {
      "needs_background": "light"
     },
     "output_type": "display_data"
    },
    {
     "name": "stdout",
     "output_type": "stream",
     "text": [
      "25.352657079696655\n"
     ]
    }
   ],
   "source": [
    "from ruster_rbf import Ruster_RBF\n",
    "r = Ruster_RBF(path=\"C:\\\\Users\\\\Revive\\\\PycharmProjects\\\\Rust_Native_ML\\\\rust\\\\PerceptronLib\\\\target\\\\release\\\\PerceptronLib.dll\")\n",
    "t1 = time.time()\n",
    "\n",
    "XF = [item for sublist in X for item in sublist]\n",
    "XF_test = [item for sublist in X_test for item in sublist]\n",
    "Y\n",
    "\n",
    "gamma = 3\n",
    "alpha = 0.003\n",
    "ndim = 192\n",
    "nb_clusters = 100\n",
    "model_size = len(X)\n",
    "model = r.create_linear_model(model_size-1)\n",
    "\n",
    "native_clusters = r.init_clusters(XF, nb_clusters, ndim)\n",
    "r.k_means(XF, native_clusters, nb_clusters, ndim)\n",
    "clusters = r.npify(native_clusters, nb_clusters*ndim)\n",
    "\n",
    "r.destroy(native_clusters, nb_clusters*ndim)\n",
    "\n",
    "# model_np = r.npify(model, model_size)\n",
    "# print(model_np)\n",
    "# print()\n",
    "\n",
    "losses = []\n",
    "test_losses = []\n",
    "\n",
    "for i in range(10000):\n",
    "    rand_idx = random.randint(0, len(X)-1)\n",
    "    rand_idx_test = random.randint(0, len(X_test)-1)\n",
    "    predict = r.predict_rbf_naive(model, clusters, X[rand_idx], ndim, gamma, True)\n",
    "    predict_test = r.predict_rbf_naive(model, clusters, X_test[rand_idx_test], ndim, gamma, True)\n",
    "    \n",
    "    losses.append(Y[rand_idx] - predict)\n",
    "    test_losses.append(Y_test[rand_idx_test] - predict_test)\n",
    "    \n",
    "    r.train_rosenblatt_rbf(model, clusters, Y, ndim, 50, alpha, gamma)\n",
    "    \n",
    "#     t2 = time.time()\n",
    "#     print(t2 - t1)\n",
    "#     print(f\"Pred : {predict} Y : {Y[rand_idx]}\")\n",
    "#     print(f\"Test : {predict_test} Y_test : {Y_test[rand_idx_test]} out: {(Y[rand_idx] - predict)}\")\n",
    "#     print()\n",
    "\n",
    "accurates = 0\n",
    "accurates_test = 0\n",
    "for i in range(len(X)):\n",
    "    predict = r.predict_rbf_naive(model, clusters, X[i], ndim, gamma, True)\n",
    "    if Y[i] - predict == 0:\n",
    "        accurates += 1\n",
    "        \n",
    "for i in range(len(X_test)):\n",
    "    predict_test = r.predict_rbf_naive(model, clusters, X_test[i], ndim, gamma, True)\n",
    "    if Y_test[i] - predict_test == 0:\n",
    "        accurates_test += 1\n",
    "        \n",
    "print(f\"Accuracy : {accurates} / {len(Y)}\")\n",
    "print(f\"{round(accurates/len(Y)*100, 1)}%\")\n",
    "print() \n",
    "print(f\"Test accuracy : {accurates_test} / {len(Y_test)}\")\n",
    "print(f\"{round(accurates_test/len(Y_test)*100, 1)}%\")\n",
    "print()\n",
    "\n",
    "plt.plot(losses)\n",
    "plt.plot(test_losses)\n",
    "plt.show()\n",
    "\n",
    "t2 = time.time()\n",
    "print(t2 - t1)\n",
    "\n",
    "r.store_model(model, model_size, 13381201)\n",
    "\n",
    "r.destroy(model, model_size)"
   ]
  }
 ],
 "metadata": {
  "kernelspec": {
   "display_name": "Python 3",
   "language": "python",
   "name": "python3"
  },
  "language_info": {
   "codemirror_mode": {
    "name": "ipython",
    "version": 3
   },
   "file_extension": ".py",
   "mimetype": "text/x-python",
   "name": "python",
   "nbconvert_exporter": "python",
   "pygments_lexer": "ipython3",
   "version": "3.8.8"
  }
 },
 "nbformat": 4,
 "nbformat_minor": 5
}
