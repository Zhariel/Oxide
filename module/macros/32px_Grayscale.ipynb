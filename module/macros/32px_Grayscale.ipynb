{
 "cells": [
  {
   "cell_type": "markdown",
   "id": "8a504dde",
   "metadata": {},
   "source": [
    "# 32px - Grayscale"
   ]
  },
  {
   "cell_type": "markdown",
   "id": "c837d3f1",
   "metadata": {},
   "source": [
    "## Neural"
   ]
  },
  {
   "cell_type": "code",
   "execution_count": null,
   "id": "d3338998",
   "metadata": {},
   "outputs": [],
   "source": []
  },
  {
   "cell_type": "markdown",
   "id": "e18a3ad3",
   "metadata": {},
   "source": [
    "## Linear"
   ]
  },
  {
   "cell_type": "code",
   "execution_count": null,
   "id": "84e21fd1",
   "metadata": {},
   "outputs": [],
   "source": []
  },
  {
   "cell_type": "markdown",
   "id": "68cbbbac",
   "metadata": {},
   "source": [
    "## Radial"
   ]
  },
  {
   "cell_type": "code",
   "execution_count": null,
   "id": "32a564d8",
   "metadata": {},
   "outputs": [],
   "source": []
  },
  {
   "cell_type": "markdown",
   "id": "7f005073",
   "metadata": {},
   "source": [
    "# 32px - RGB"
   ]
  },
  {
   "cell_type": "markdown",
   "id": "c1c2ada1",
   "metadata": {},
   "source": [
    "## Neural"
   ]
  },
  {
   "cell_type": "code",
   "execution_count": null,
   "id": "bf7b4c7a",
   "metadata": {},
   "outputs": [],
   "source": []
  },
  {
   "cell_type": "markdown",
   "id": "d58171fd",
   "metadata": {},
   "source": [
    "## Linear"
   ]
  },
  {
   "cell_type": "code",
   "execution_count": null,
   "id": "4225899d",
   "metadata": {},
   "outputs": [],
   "source": []
  },
  {
   "cell_type": "markdown",
   "id": "eb07acd4",
   "metadata": {},
   "source": [
    "## Radial"
   ]
  },
  {
   "cell_type": "code",
   "execution_count": null,
   "id": "6c023d6f",
   "metadata": {},
   "outputs": [],
   "source": []
  }
 ],
 "metadata": {
  "kernelspec": {
   "display_name": "Python 3",
   "language": "python",
   "name": "python3"
  },
  "language_info": {
   "codemirror_mode": {
    "name": "ipython",
    "version": 3
   },
   "file_extension": ".py",
   "mimetype": "text/x-python",
   "name": "python",
   "nbconvert_exporter": "python",
   "pygments_lexer": "ipython3",
   "version": "3.8.8"
  }
 },
 "nbformat": 4,
 "nbformat_minor": 5
}
