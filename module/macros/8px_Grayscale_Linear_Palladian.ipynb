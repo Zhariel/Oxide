{
 "cells": [
  {
   "cell_type": "markdown",
   "id": "f7dd0f1f",
   "metadata": {},
   "source": [
    "# - 8px - Grayscale -"
   ]
  },
  {
   "cell_type": "code",
   "execution_count": 2,
   "id": "cc7d390f",
   "metadata": {},
   "outputs": [],
   "source": [
    "import matplotlib.pyplot as plt\n",
    "from img_driver import Img_Driver\n",
    "from datetime import datetime\n",
    "import numpy as np\n",
    "import random\n",
    "import time\n",
    "import sys\n",
    "import os"
   ]
  },
  {
   "cell_type": "markdown",
   "id": "718abe3e",
   "metadata": {},
   "source": [
    "## Linear Palladian"
   ]
  },
  {
   "cell_type": "code",
   "execution_count": 3,
   "id": "a3cda102",
   "metadata": {
    "scrolled": true
   },
   "outputs": [
    {
     "name": "stdout",
     "output_type": "stream",
     "text": [
      "X : 4560 64\n",
      "[[0.6901960784313725, 0.6509803921568628, 0.611764705882353, 0.5764705882352941, 0.5450980392156862, 0.5058823529411764, 0.4588235294117647, 0.41568627450980394, 0.6862745098039216, 0.6549019607843137, 0.611764705882353, 0.5725490196078431, 0.5411764705882353, 0.4980392156862745, 0.4627450980392157, 0.4196078431372549, 0.6666666666666666, 0.6431372549019608, 0.6039215686274509, 0.5607843137254902, 0.5254901960784314, 0.49411764705882355, 0.4627450980392157, 0.42745098039215684, 0.6392156862745098, 0.6196078431372549, 0.5803921568627451, 0.5529411764705883, 0.48627450980392156, 0.4823529411764706, 0.47058823529411764, 0.4392156862745098, 0.6196078431372549, 0.6039215686274509, 0.5215686274509804, 0.5176470588235295, 0.4588235294117647, 0.4666666666666667, 0.4745098039215686, 0.4470588235294118, 0.596078431372549, 0.5882352941176471, 0.4627450980392157, 0.3843137254901961, 0.5333333333333333, 0.47058823529411764, 0.4549019607843137, 0.44313725490196076, 0.5843137254901961, 0.592156862745098, 0.403921568627451, 0.18823529411764706, 0.5647058823529412, 0.4745098039215686, 0.3843137254901961, 0.40784313725490196, 0.5725490196078431, 0.5607843137254902, 0.27058823529411763, 0.17647058823529413, 0.596078431372549, 0.5372549019607843, 0.3607843137254902, 0.23529411764705882]]\n",
      "\n",
      "Y : 4560\n",
      "[-1.0]\n",
      "\n"
     ]
    }
   ],
   "source": [
    "driver = Img_Driver()\n",
    "\n",
    "X = driver.pixels_rgb(8, rgb=False, divider=255)\n",
    "Y = [1.0 if x >= (1520*2) else -1.0 for x in range(4560)]\n",
    "\n",
    "X_test = driver.pixels_rgb(8, rgb=False, divider=255, test=True)\n",
    "Y_test = [1.0 if x >= (80*2) else -1.0 for x in range(240)]\n",
    "\n",
    "# X_test = driver.pixels_rgb(8, rgb=False, divider=255, test=True)\n",
    "# Y_test = [1.0 if x < 80 else 0.0 for x in range(240)]\n",
    "\n",
    "random.seed(0)\n",
    "random.shuffle(X)\n",
    "random.seed(0)\n",
    "random.shuffle(Y)\n",
    "\n",
    "# y_asian = driver.define_y_keyword(\"asian\", 8, rgb=False)\n",
    "# y_modern = driver.define_y_keyword(\"modern\", 8, rgb=False)\n",
    "# y_palladian = driver.define_y_keyword(\"palladian\", 8, rgb=False)\n",
    "\n",
    "# Y_test_asian = driver.define_y_keyword(\"asian\", 8, rgb=False, test=True)\n",
    "# Y_test_modern = driver.define_y_keyword(\"modern\", 8, rgb=False, test=True)\n",
    "# Y_test_palladian = driver.define_y_keyword(\"palladian\", 8, rgb=False, test=True)\n",
    "\n",
    "# x_asian = X[:len(y_asian)]\n",
    "# x_modern = X[len(y_asian):(len(y_asian)+len(y_modern))]\n",
    "# x_palladian = X[len(y_asian)+len(y_modern):]\n",
    "# random.shuffle(y_palladian)\n",
    "\n",
    "print(f\"X : {len(X)} {len(X[0])}\")\n",
    "print(X[0:1])\n",
    "print()\n",
    "print(f\"Y : {len(Y)}\")\n",
    "print(Y[0:1])\n",
    "print()\n",
    "# print(f\"X_test : {len(X_test)} {len(X_test[0])}\")\n",
    "# print(X_test[0:1])\n",
    "# print()\n",
    "# print(f\"Y_test : {len(Y_test)}\")\n",
    "# print(Y_test)\n",
    "# print()"
   ]
  },
  {
   "cell_type": "markdown",
   "id": "ac109e7d",
   "metadata": {},
   "source": [
    "### 1"
   ]
  },
  {
   "cell_type": "code",
   "execution_count": 4,
   "id": "f818f449",
   "metadata": {},
   "outputs": [
    {
     "name": "stdout",
     "output_type": "stream",
     "text": [
      "\n"
     ]
    },
    {
     "data": {
      "image/png": "[encoded data removed]",
      "text/plain": [
       "<Figure size 432x288 with 1 Axes>"
      ]
     },
     "metadata": {
      "needs_background": "light"
     },
     "output_type": "display_data"
    },
    {
     "name": "stdout",
     "output_type": "stream",
     "text": [
      "405.02631855010986\n"
     ]
    }
   ],
   "source": [
    "from ruster_linear import Ruster_Linear\n",
    "r = Ruster_Linear(path=\"C:\\\\Users\\\\Revive\\\\PycharmProjects\\\\Rust_Native_ML\\\\rust\\\\PerceptronLib\\\\target\\\\release\\\\PerceptronLib.dll\")\n",
    "t1 = time.time()\n",
    "\n",
    "model_size = 64\n",
    "model = r.create_linear_model(model_size)\n",
    "\n",
    "model_np = r.npify(model, model_size+1)\n",
    "# print(model_np)\n",
    "print()\n",
    "\n",
    "XF = [item for sublist in X for item in sublist]\n",
    "YF = Y\n",
    "\n",
    "losses = []\n",
    "test_losses = []\n",
    "\n",
    "for i in range(10000):\n",
    "    rand_idx = random.randint(0, len(X)-1)\n",
    "    rand_idx_test = random.randint(0, len(X_test)-1)\n",
    "    predict = r.predict_linear_model_classification(model, X[rand_idx], (model_size+1))\n",
    "    predict_test = r.predict_linear_model_classification(model, X_test[rand_idx_test], (model_size+1))\n",
    "    \n",
    "    losses.append(Y[rand_idx] - predict)\n",
    "    test_losses.append(Y_test[rand_idx_test] - predict_test)\n",
    "    \n",
    "    r.train_rosenblatt_linear_model(model, XF, YF, model_size+1, 50, 0.001)\n",
    "    \n",
    "#     t2 = time.time()\n",
    "#     print(t2 - t1)\n",
    "#     print(f\"Pred : {predict} Y : {Y[rand_idx]}\")\n",
    "#     print(Y[rand_idx] - predict)\n",
    "#     print(f\"Test : {predict_test} Y_test : {Y_test[rand_idx_test]}\")\n",
    "#     print()\n",
    "\n",
    "\n",
    "plt.plot(losses)\n",
    "plt.plot(test_losses)\n",
    "plt.show()\n",
    "\n",
    "t2 = time.time()\n",
    "print(t2 - t1)\n",
    "\n",
    "r.store_model(model, model_size+1, 380101)\n",
    "\n",
    "r.destroy_linear_model(model, model_size)"
   ]
  },
  {
   "cell_type": "code",
   "execution_count": 4,
   "id": "7fbf9386",
   "metadata": {},
   "outputs": [
    {
     "name": "stdout",
     "output_type": "stream",
     "text": [
      "Accuracy : 3026 / 4560\n",
      "66.4%\n",
      "\n",
      "Test accuracy : 154 / 240\n",
      "64.2%\n",
      "\n"
     ]
    }
   ],
   "source": [
    "from ruster_linear import Ruster_Linear\n",
    "r = Ruster_Linear(path=\"C:\\\\Users\\\\Revive\\\\PycharmProjects\\\\Rust_Native_ML\\\\rust\\\\PerceptronLib\\\\target\\\\release\\\\PerceptronLib.dll\")\n",
    "mod_loaded = r.load_model(380101)\n",
    "model_size = 64\n",
    "\n",
    "accurates = 0\n",
    "accurates_test = 0\n",
    "for i in range(len(X)):\n",
    "    predict = r.predict_linear_model_classification(mod_loaded, X[i], (model_size+1))\n",
    "    if Y[i] - predict == 0:\n",
    "        accurates += 1\n",
    "        \n",
    "for i in range(len(X_test)):\n",
    "    predict_test = r.predict_linear_model_classification(mod_loaded, X[i], (model_size+1))\n",
    "    if Y_test[i] - predict_test == 0:\n",
    "        accurates_test += 1\n",
    "        \n",
    "print(f\"Accuracy : {accurates} / {len(Y)}\")\n",
    "print(f\"{round(accurates/len(Y)*100, 1)}%\")\n",
    "print() \n",
    "print(f\"Test accuracy : {accurates_test} / {len(Y_test)}\")\n",
    "print(f\"{round(accurates_test/len(Y_test)*100, 1)}%\")\n",
    "print()\n",
    "\n",
    "r.destroy_linear_model(mod_loaded, model_size+1)"
   ]
  },
  {
   "cell_type": "code",
   "execution_count": 5,
   "id": "36ce240f",
   "metadata": {},
   "outputs": [
    {
     "name": "stdout",
     "output_type": "stream",
     "text": [
      "\n"
     ]
    },
    {
     "data": {
      "image/png": "[encoded data removed]",
      "text/plain": [
       "<Figure size 432x288 with 1 Axes>"
      ]
     },
     "metadata": {
      "needs_background": "light"
     },
     "output_type": "display_data"
    },
    {
     "name": "stdout",
     "output_type": "stream",
     "text": [
      "374.0052258968353\n"
     ]
    }
   ],
   "source": [
    "from ruster_linear import Ruster_Linear\n",
    "r = Ruster_Linear(path=\"C:\\\\Users\\\\Revive\\\\PycharmProjects\\\\Rust_Native_ML\\\\rust\\\\PerceptronLib\\\\target\\\\release\\\\PerceptronLib.dll\")\n",
    "t1 = time.time()\n",
    "\n",
    "model_size = 64\n",
    "model = r.create_linear_model(model_size)\n",
    "\n",
    "model_np = r.npify(model, model_size+1)\n",
    "# print(model_np)\n",
    "print()\n",
    "\n",
    "XF = [item for sublist in X for item in sublist]\n",
    "YF = Y\n",
    "\n",
    "losses = []\n",
    "test_losses = []\n",
    "\n",
    "for i in range(10000):\n",
    "    rand_idx = random.randint(0, len(X)-1)\n",
    "    rand_idx_test = random.randint(0, len(X_test)-1)\n",
    "    predict = r.predict_linear_model_classification(model, X[rand_idx], (model_size+1))\n",
    "    predict_test = r.predict_linear_model_classification(model, X_test[rand_idx_test], (model_size+1))\n",
    "    \n",
    "    losses.append(Y[rand_idx] - predict)\n",
    "    test_losses.append(Y_test[rand_idx_test] - predict_test)\n",
    "    \n",
    "    r.train_rosenblatt_linear_model(model, XF, YF, model_size+1, 50, 0.003)\n",
    "    \n",
    "#     t2 = time.time()\n",
    "#     print(t2 - t1)\n",
    "#     print(f\"Pred : {predict} Y : {Y[rand_idx]}\")\n",
    "#     print(Y[rand_idx] - predict)\n",
    "#     print(f\"Test : {predict_test} Y_test : {Y_test[rand_idx_test]}\")\n",
    "#     print()\n",
    "\n",
    "\n",
    "plt.plot(losses)\n",
    "plt.plot(test_losses)\n",
    "plt.show()\n",
    "\n",
    "t2 = time.time()\n",
    "print(t2 - t1)\n",
    "\n",
    "r.store_model(model, model_size+1, 380201)\n",
    "\n",
    "r.destroy_linear_model(model, model_size)"
   ]
  },
  {
   "cell_type": "code",
   "execution_count": 6,
   "id": "4c1d42fe",
   "metadata": {},
   "outputs": [
    {
     "name": "stdout",
     "output_type": "stream",
     "text": [
      "Accuracy : 2967 / 4560\n",
      "65.1%\n",
      "\n",
      "Test accuracy : 145 / 240\n",
      "60.4%\n",
      "\n"
     ]
    }
   ],
   "source": [
    "from ruster_linear import Ruster_Linear\n",
    "r = Ruster_Linear(path=\"C:\\\\Users\\\\Revive\\\\PycharmProjects\\\\Rust_Native_ML\\\\rust\\\\PerceptronLib\\\\target\\\\release\\\\PerceptronLib.dll\")\n",
    "mod_loaded = r.load_model(380201)\n",
    "model_size = 64\n",
    "\n",
    "accurates = 0\n",
    "accurates_test = 0\n",
    "for i in range(len(X)):\n",
    "    predict = r.predict_linear_model_classification(mod_loaded, X[i], (model_size+1))\n",
    "    if Y[i] - predict == 0:\n",
    "        accurates += 1\n",
    "        \n",
    "for i in range(len(X_test)):\n",
    "    predict_test = r.predict_linear_model_classification(mod_loaded, X[i], (model_size+1))\n",
    "    if Y_test[i] - predict_test == 0:\n",
    "        accurates_test += 1\n",
    "        \n",
    "print(f\"Accuracy : {accurates} / {len(Y)}\")\n",
    "print(f\"{round(accurates/len(Y)*100, 1)}%\")\n",
    "print() \n",
    "print(f\"Test accuracy : {accurates_test} / {len(Y_test)}\")\n",
    "print(f\"{round(accurates_test/len(Y_test)*100, 1)}%\")\n",
    "print()\n",
    "\n",
    "r.destroy_linear_model(mod_loaded, model_size+1)"
   ]
  }
 ],
 "metadata": {
  "kernelspec": {
   "display_name": "Python 3",
   "language": "python",
   "name": "python3"
  },
  "language_info": {
   "codemirror_mode": {
    "name": "ipython",
    "version": 3
   },
   "file_extension": ".py",
   "mimetype": "text/x-python",
   "name": "python",
   "nbconvert_exporter": "python",
   "pygments_lexer": "ipython3",
   "version": "3.8.8"
  }
 },
 "nbformat": 4,
 "nbformat_minor": 5
}
